{
 "cells": [
  {
   "cell_type": "code",
   "execution_count": null,
   "id": "d5be792d",
   "metadata": {},
   "outputs": [],
   "source": [
    "%load_ext autoreload\n",
    "%autoreload 2\n",
    "\n",
    "import ipywidgets as widgets\n",
    "from source.app import EmotionPredictor \n",
    "import pandas as pd"
   ]
  },
  {
   "cell_type": "markdown",
   "id": "4206ddb7",
   "metadata": {},
   "source": [
    "# Prepare a conversation dataset"
   ]
  },
  {
   "cell_type": "code",
   "execution_count": null,
   "id": "9a8441bb",
   "metadata": {},
   "outputs": [],
   "source": [
    "row.line, row.person"
   ]
  },
  {
   "cell_type": "code",
   "execution_count": null,
   "id": "9ccced2f",
   "metadata": {},
   "outputs": [],
   "source": [
    "model_path = \"./results/models/best\"\n"
   ]
  },
  {
   "cell_type": "markdown",
   "id": "b7cdfb3a",
   "metadata": {},
   "source": [
    "# Select a person to analyze"
   ]
  },
  {
   "cell_type": "code",
   "execution_count": null,
   "id": "d897f0c3",
   "metadata": {},
   "outputs": [],
   "source": [
    "person_selection = widgets.Dropdown(\n",
    "    options=['1', '2', '3'],\n",
    "    value='2',\n",
    "    description='Number:',\n",
    "    disabled=False,\n",
    ")\n",
    "def on_change(change):\n",
    "    if change['type'] == 'change' and change['name'] == 'value':\n",
    "        print(\"changed to %s\" % change['new'])\n",
    "\n",
    "person_selection.observe(on_change)"
   ]
  },
  {
   "cell_type": "code",
   "execution_count": null,
   "id": "165b7dd1",
   "metadata": {},
   "outputs": [],
   "source": [
    "dataset = pd.read_csv(\"data/friends-final-raw.txt\", sep=\"\\t\")"
   ]
  },
  {
   "cell_type": "code",
   "execution_count": null,
   "id": "4f9bb9d4",
   "metadata": {},
   "outputs": [],
   "source": [
    "predictor = EmotionPredictor(dataset, \"./results/models/best\")"
   ]
  },
  {
   "cell_type": "code",
   "execution_count": null,
   "id": "f4302aba",
   "metadata": {},
   "outputs": [],
   "source": [
    "predictor.predict(None)"
   ]
  },
  {
   "cell_type": "code",
   "execution_count": null,
   "id": "260cf383",
   "metadata": {},
   "outputs": [],
   "source": [
    "predictor.analyze_person(\"MONICA\")"
   ]
  },
  {
   "cell_type": "code",
   "execution_count": null,
   "id": "9e163ca0",
   "metadata": {},
   "outputs": [],
   "source": []
  }
 ],
 "metadata": {
  "kernelspec": {
   "display_name": "Python 3 (ipykernel)",
   "language": "python",
   "name": "python3"
  },
  "language_info": {
   "codemirror_mode": {
    "name": "ipython",
    "version": 3
   },
   "file_extension": ".py",
   "mimetype": "text/x-python",
   "name": "python",
   "nbconvert_exporter": "python",
   "pygments_lexer": "ipython3",
   "version": "3.8.2"
  }
 },
 "nbformat": 4,
 "nbformat_minor": 5
}
