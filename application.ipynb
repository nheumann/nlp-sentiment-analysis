{
 "cells": [
  {
   "cell_type": "code",
   "execution_count": null,
   "id": "d5be792d",
   "metadata": {},
   "outputs": [],
   "source": [
    "%load_ext autoreload\n",
    "%autoreload 2\n",
    "\n",
    "import ipywidgets as widgets\n",
    "import numpy as np\n",
    "from source.emotion import emotion_to_emoji\n",
    "from source.app import EmotionPredictor, EmotionPredictorZeroShot\n",
    "import pandas as pd\n",
    "from IPython.display import Markdown\n",
    "from IPython.display import clear_output\n",
    "import warnings\n",
    "warnings.filterwarnings('ignore')"
   ]
  },
  {
   "cell_type": "markdown",
   "id": "4206ddb7",
   "metadata": {},
   "source": [
    "# Prepare a conversation dataset"
   ]
  },
  {
   "cell_type": "code",
   "execution_count": null,
   "id": "9ccced2f",
   "metadata": {},
   "outputs": [],
   "source": [
    "model_path = \"./results/models/best\"\n",
    "dataset = pd.read_csv(\"data/friends-final-raw.txt\", sep=\"\\t\")\n",
    "\n",
    "#predictor = EmotionPredictor(dataset, \"./results/models/best\")\n",
    "#predictor.predict(\"./data/supervised/friends-classification0.2.pickle\")\n",
    "\n",
    "predictor = EmotionPredictorZeroShot(dataset, \"typeform/distilbert-base-uncased-mnli\")\n",
    "predictor.predict(\"./data/prediction-zero-shot/friends-classification_0.8.pickle\")"
   ]
  },
  {
   "cell_type": "markdown",
   "id": "b7cdfb3a",
   "metadata": {},
   "source": [
    "# Select persons to analyze"
   ]
  },
  {
   "cell_type": "code",
   "execution_count": null,
   "id": "d897f0c3",
   "metadata": {},
   "outputs": [],
   "source": [
    "person_selection = widgets.SelectMultiple(\n",
    "    options=predictor.frequent_characters,\n",
    "    value=[],\n",
    "    description='Character:',\n",
    "    disabled=False,\n",
    "    layout=widgets.Layout(height=\"105px\")\n",
    ")\n",
    "button = widgets.Button(description=\"Analyze\")\n",
    "display(widgets.HBox([person_selection, button]))\n",
    "\n",
    "def on_click(b):\n",
    "    clear_output(wait=True)\n",
    "    display(widgets.HBox([person_selection, button]))\n",
    "    predictor.analyze_persons(person_selection.value)\n",
    "        \n",
    "button.on_click(on_click)"
   ]
  }
 ],
 "metadata": {
  "kernelspec": {
   "display_name": "Python 3 (ipykernel)",
   "language": "python",
   "name": "python3"
  },
  "language_info": {
   "codemirror_mode": {
    "name": "ipython",
    "version": 3
   },
   "file_extension": ".py",
   "mimetype": "text/x-python",
   "name": "python",
   "nbconvert_exporter": "python",
   "pygments_lexer": "ipython3",
   "version": "3.8.2"
  }
 },
 "nbformat": 4,
 "nbformat_minor": 5
}
